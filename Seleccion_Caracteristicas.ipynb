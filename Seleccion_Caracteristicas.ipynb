{
 "cells": [
  {
   "cell_type": "markdown",
   "metadata": {},
   "source": [
    "Vamos a hacer una seleccion de caracteristicas sobre una base de datos sobre vinos la cual fue explicada en detalle en el README.\n",
    "\n",
    "Lo primero sera importar los datos revisar sus dimenciones y mostraremos las primeras 5 filas de datos."
   ]
  },
  {
   "cell_type": "code",
   "execution_count": 1,
   "metadata": {},
   "outputs": [
    {
     "name": "stdout",
     "output_type": "stream",
     "text": [
      "(1599, 12)\n",
      "Index(['acidezFija', 'acidezVolatil', 'acidoCitrico', 'azucarResidual',\n",
      "       'cloruros', 'dioxidoAzufreLibre', 'dioxidoAzufreTotal', 'densidad',\n",
      "       'pH', 'sulfatos', 'alcohol', 'calidad'],\n",
      "      dtype='object')\n",
      "   acidezFija  acidezVolatil  acidoCitrico  azucarResidual  cloruros  \\\n",
      "0         7.4           0.70          0.00             1.9     0.076   \n",
      "1         7.8           0.88          0.00             2.6     0.098   \n",
      "2         7.8           0.76          0.04             2.3     0.092   \n",
      "3        11.2           0.28          0.56             1.9     0.075   \n",
      "4         7.4           0.70          0.00             1.9     0.076   \n",
      "\n",
      "   dioxidoAzufreLibre  dioxidoAzufreTotal  densidad    pH  sulfatos  alcohol  \\\n",
      "0                11.0                34.0    0.9978  3.51      0.56      9.4   \n",
      "1                25.0                67.0    0.9968  3.20      0.68      9.8   \n",
      "2                15.0                54.0    0.9970  3.26      0.65      9.8   \n",
      "3                17.0                60.0    0.9980  3.16      0.58      9.8   \n",
      "4                11.0                34.0    0.9978  3.51      0.56      9.4   \n",
      "\n",
      "   calidad  \n",
      "0        5  \n",
      "1        5  \n",
      "2        5  \n",
      "3        6  \n",
      "4        5  \n"
     ]
    }
   ],
   "source": [
    "import pandas as pd\n",
    "# Lee el archivo\n",
    "data = pd.read_csv(\"Vino_Tinto.csv\")\n",
    "print(data.shape)\n",
    "print(data.columns)\n",
    "print(data.head())"
   ]
  },
  {
   "cell_type": "markdown",
   "metadata": {},
   "source": [
    "Vamos a separar el data frame en datos de entrenamiento y datos de prueba con una proporción\n",
    "80/20. Trataremos de predecir los niveles de alcohol con nuestros modelos."
   ]
  },
  {
   "cell_type": "code",
   "execution_count": 9,
   "metadata": {},
   "outputs": [
    {
     "name": "stdout",
     "output_type": "stream",
     "text": [
      "                            OLS Regression Results                            \n",
      "==============================================================================\n",
      "Dep. Variable:                alcohol   R-squared:                       0.706\n",
      "Model:                            OLS   Adj. R-squared:                  0.704\n",
      "Method:                 Least Squares   F-statistic:                     277.1\n",
      "Date:                Wed, 05 Feb 2025   Prob (F-statistic):               0.00\n",
      "Time:                        22:05:20   Log-Likelihood:                -1112.1\n",
      "No. Observations:                1279   AIC:                             2248.\n",
      "Df Residuals:                    1267   BIC:                             2310.\n",
      "Df Model:                          11                                         \n",
      "Covariance Type:            nonrobust                                         \n",
      "======================================================================================\n",
      "                         coef    std err          t      P>|t|      [0.025      0.975]\n",
      "--------------------------------------------------------------------------------------\n",
      "const                575.9530     14.899     38.658      0.000     546.724     605.182\n",
      "acidezFija             0.5057      0.022     22.792      0.000       0.462       0.549\n",
      "acidezVolatil          0.5786      0.123      4.717      0.000       0.338       0.819\n",
      "acidoCitrico           0.6895      0.145      4.751      0.000       0.405       0.974\n",
      "azucarResidual         0.2759      0.014     19.877      0.000       0.249       0.303\n",
      "cloruros              -0.8342      0.420     -1.984      0.047      -1.659      -0.009\n",
      "dioxidoAzufreLibre    -0.0007      0.002     -0.321      0.748      -0.005       0.004\n",
      "dioxidoAzufreTotal    -0.0020      0.001     -2.708      0.007      -0.003      -0.001\n",
      "densidad            -586.1693     15.213    -38.531      0.000    -616.014    -556.324\n",
      "pH                     3.4732      0.165     21.051      0.000       3.150       3.797\n",
      "sulfatos               1.0638      0.121      8.786      0.000       0.826       1.301\n",
      "calidad                0.2313      0.024      9.504      0.000       0.184       0.279\n",
      "==============================================================================\n",
      "Omnibus:                       86.879   Durbin-Watson:                   2.023\n",
      "Prob(Omnibus):                  0.000   Jarque-Bera (JB):              160.944\n",
      "Skew:                           0.473   Prob(JB):                     1.13e-35\n",
      "Kurtosis:                       4.458   Cond. No.                     7.87e+04\n",
      "==============================================================================\n",
      "\n",
      "Notes:\n",
      "[1] Standard Errors assume that the covariance matrix of the errors is correctly specified.\n",
      "[2] The condition number is large, 7.87e+04. This might indicate that there are\n",
      "strong multicollinearity or other numerical problems.\n"
     ]
    }
   ],
   "source": [
    "from sklearn.model_selection import train_test_split\n",
    "import statsmodels.api as sm\n",
    "\n",
    "train, test = train_test_split(data, train_size = 0.8)\n",
    "X = train.drop('alcohol', axis = 1)\n",
    "Y = train.alcohol\n",
    "model = sm.OLS(Y,sm.add_constant(X))\n",
    "results = model.fit()\n",
    "print(results.summary())"
   ]
  },
  {
   "cell_type": "markdown",
   "metadata": {},
   "source": [
    "Podemos observar que tenemos varios valores de interes gracias al p-value menos el dioxido de asufre que tiene un p-value muy alto.\n",
    "\n",
    "Con esta informacion vamos a generar la metodología de selección hacia adelante e imprimir los índices o los nombres de las características seleccionadas. Para realizar este proceso, vamos a utilisar la funcion “SequentialFeatureSelector” de la librería\n",
    "“mlxtend.feature_selection\"."
   ]
  },
  {
   "cell_type": "code",
   "execution_count": 13,
   "metadata": {},
   "outputs": [
    {
     "name": "stdout",
     "output_type": "stream",
     "text": [
      "('acidezFija', 'acidezVolatil', 'azucarResidual', 'dioxidoAzufreTotal', 'densidad', 'pH', 'sulfatos', 'calidad')\n"
     ]
    }
   ],
   "source": [
    "import mlxtend.feature_selection as fs\n",
    "import sklearn.linear_model as lm\n",
    "\n",
    "nmodel = lm.LinearRegression()\n",
    "\n",
    "selector = fs.SequentialFeatureSelector(nmodel, forward = True, scoring = 'r2', k_features = (2,8), cv = 10)\n",
    "selector.fit(X,Y)\n",
    "print(selector.k_feature_names_)"
   ]
  },
  {
   "cell_type": "markdown",
   "metadata": {},
   "source": [
    "Despues de hacer nuestra seleccion secuencial podemos observar las caracteristicas que seran mas importantes en nuestro modelo.\n",
    "\n",
    "Ahora vamos a entrenar nuesto modelo usando solo los valores significativos. Trataremos de predecir los resultados y le pediremos que nos estregue una R^2"
   ]
  },
  {
   "cell_type": "code",
   "execution_count": 31,
   "metadata": {},
   "outputs": [
    {
     "name": "stdout",
     "output_type": "stream",
     "text": [
      "R^2= 0.6037758102302193\n"
     ]
    }
   ],
   "source": [
    "from sklearn.metrics import r2_score\n",
    "\n",
    "Xtest = test.drop('alcohol', axis = 1)\n",
    "Ytest = test.alcohol\n",
    "model2 = nmodel.fit(X[list(selector.k_feature_names_)], Y)\n",
    "yhat = model2.predict(Xtest[list(selector.k_feature_names_)])\n",
    "print('R^2=', r2_score(Ytest, yhat))"
   ]
  },
  {
   "cell_type": "markdown",
   "metadata": {},
   "source": [
    "Ahora podemos ver el valor de de R^2 segun nuestras prediciones lo cual no parece bastante mal. ahora volveremos a reducir nuestro modelo pero ahora solo considerando las nuevas condiciones."
   ]
  },
  {
   "cell_type": "code",
   "execution_count": 33,
   "metadata": {},
   "outputs": [
    {
     "name": "stdout",
     "output_type": "stream",
     "text": [
      "('acidezFija', 'azucarResidual', 'densidad', 'pH', 'calidad')\n"
     ]
    }
   ],
   "source": [
    "\n",
    "selector = fs.SequentialFeatureSelector(model2, forward = False, scoring = 'r2', k_features = (2,5), cv = 10)\n",
    "selector.fit(X,Y)\n",
    "print(selector.k_feature_names_)"
   ]
  },
  {
   "cell_type": "markdown",
   "metadata": {},
   "source": [
    "Reducimos las canridades de parametros seleccionados y conseguimos el nuevo valor de R^2."
   ]
  },
  {
   "cell_type": "code",
   "execution_count": 34,
   "metadata": {},
   "outputs": [
    {
     "name": "stdout",
     "output_type": "stream",
     "text": [
      "R^2= 0.5965003363358299\n"
     ]
    }
   ],
   "source": [
    "model3 = nmodel.fit(X[list(selector.k_feature_names_)], Y)\n",
    "yhat = model3.predict(Xtest[list(selector.k_feature_names_)])\n",
    "print('R^2=', r2_score(Ytest, yhat))"
   ]
  },
  {
   "cell_type": "markdown",
   "metadata": {},
   "source": [
    "Conseguimos un valor menor de R^2 lo que se puede significar que nuestro modelo es peor. Los modelos tienen un poder explicativo similar, pero model2 es ligeramente superior (R^2 = 0.604 vs. 0.597). La diferencia es mínima, lo que sugiere que ambos capturan relaciones comparables con los datos, pero model2 explica un 0.7% más de la varianza. Ninguno alcanza un ajuste alto (R^2 > 0.7), por lo que podrían mejorarse."
   ]
  }
 ],
 "metadata": {
  "kernelspec": {
   "display_name": "Python 3",
   "language": "python",
   "name": "python3"
  },
  "language_info": {
   "codemirror_mode": {
    "name": "ipython",
    "version": 3
   },
   "file_extension": ".py",
   "mimetype": "text/x-python",
   "name": "python",
   "nbconvert_exporter": "python",
   "pygments_lexer": "ipython3",
   "version": "3.13.1"
  }
 },
 "nbformat": 4,
 "nbformat_minor": 2
}
